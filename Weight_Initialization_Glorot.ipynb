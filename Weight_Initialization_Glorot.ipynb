{
  "nbformat": 4,
  "nbformat_minor": 0,
  "metadata": {
    "colab": {
      "name": "Weight_Initialization_Glorot.ipynb",
      "provenance": []
    },
    "kernelspec": {
      "name": "python3",
      "display_name": "Python 3"
    }
  },
  "cells": [
    {
      "cell_type": "markdown",
      "metadata": {
        "id": "crdzg6Jiu3k5",
        "colab_type": "text"
      },
      "source": [
        "<h1>Weight Initialization.</h1>\n",
        "\n",
        "In this notebook we will see how works the weights initialization in Artificial Neural Network, we will how we can avoid a saturation in the neurons.\n",
        "\n",
        "The neuron saturation is a problem that affect Artifical Neural Network (ANN) beacause in neurons with sigmoid activation delay the learning of the network. That it to say, an ANN with sigmoid activation has problems with backpropagation that happends for weghts very big.\n",
        "\n",
        "In this demostration we will see how it is the distribution in a layer after we let's initialize the weights with a Gaussian distribution. Later we will se how it is the distribution in a layer with a Glorot distribution."
      ]
    },
    {
      "cell_type": "markdown",
      "metadata": {
        "id": "n5P3Omrcypvs",
        "colab_type": "text"
      },
      "source": [
        "First, declare libraries."
      ]
    },
    {
      "cell_type": "code",
      "metadata": {
        "id": "A21mSlkIym0z",
        "colab_type": "code",
        "colab": {
          "base_uri": "https://localhost:8080/",
          "height": 34
        },
        "outputId": "c7f2ecd9-aa0e-44e9-ae3f-cc326421c44e"
      },
      "source": [
        "import numpy as np\n",
        "import matplotlib.pyplot as plt\n",
        "from keras import Sequential\n",
        "from keras.layers import Dense, Activation\n",
        "from keras.initializers import Zeros, RandomNormal, glorot_normal, glorot_uniform"
      ],
      "execution_count": 1,
      "outputs": [
        {
          "output_type": "stream",
          "text": [
            "Using TensorFlow backend.\n"
          ],
          "name": "stderr"
        }
      ]
    },
    {
      "cell_type": "markdown",
      "metadata": {
        "id": "NAweULKizqB6",
        "colab_type": "text"
      },
      "source": [
        "In this experiment we will create one observation with 784 inputs, that because it is 784 that represent the pixels in the MNIST dataset*. Also we will create a layer with 256 neurons.\n",
        "\n",
        "*http://yann.lecun.com/exdb/mnist/"
      ]
    },
    {
      "cell_type": "code",
      "metadata": {
        "id": "tXhoUs4Pzj8Q",
        "colab_type": "code",
        "colab": {}
      },
      "source": [
        "n_input = 784\n",
        "n_dense=256\n"
      ],
      "execution_count": 2,
      "outputs": []
    },
    {
      "cell_type": "markdown",
      "metadata": {
        "id": "rSZvVmxB1I3m",
        "colab_type": "text"
      },
      "source": [
        "For is common practice, we initialize the *bias* with zeros."
      ]
    },
    {
      "cell_type": "code",
      "metadata": {
        "id": "2sUtZPcb0d2P",
        "colab_type": "code",
        "colab": {}
      },
      "source": [
        "b_init = Zeros()"
      ],
      "execution_count": 3,
      "outputs": []
    },
    {
      "cell_type": "markdown",
      "metadata": {
        "id": "FCBHgwTB2M2h",
        "colab_type": "text"
      },
      "source": [
        "So, we initialize the weights with a normal distribution, this distribution has a mean in 0 and standard deviation is 1"
      ]
    },
    {
      "cell_type": "markdown",
      "metadata": {
        "id": "Du2y_a4QBwQF",
        "colab_type": "text"
      },
      "source": [
        "***We need to have Normal initialization enabled and Glorot commented out, unless otherwise specified.***"
      ]
    },
    {
      "cell_type": "code",
      "metadata": {
        "id": "jgIpt-fW1TVc",
        "colab_type": "code",
        "colab": {}
      },
      "source": [
        "# w_init = RandomNormal(stddev = 1.0)\n",
        "# w_init = glorot_normal()\n",
        "w_init = glorot_uniform()"
      ],
      "execution_count": 6,
      "outputs": []
    },
    {
      "cell_type": "markdown",
      "metadata": {
        "id": "FY13jQsL2iUG",
        "colab_type": "text"
      },
      "source": [
        "We create the Artificial Neural Network with sigmoid activation.\n"
      ]
    },
    {
      "cell_type": "code",
      "metadata": {
        "id": "uI3-Phz72Vf-",
        "colab_type": "code",
        "colab": {}
      },
      "source": [
        "model = Sequential()\n",
        "model.add(Dense(n_dense,\n",
        "                input_dim=n_input,\n",
        "                kernel_initializer=w_init,\n",
        "                bias_initializer=b_init))\n",
        "model.add(Activation('sigmoid'))\n"
      ],
      "execution_count": 7,
      "outputs": []
    },
    {
      "cell_type": "markdown",
      "metadata": {
        "id": "lTzHouC63Y1y",
        "colab_type": "text"
      },
      "source": [
        "We create a data dummy because it doesn't matter the input for the demonstration."
      ]
    },
    {
      "cell_type": "code",
      "metadata": {
        "id": "rTccUjXa2fMG",
        "colab_type": "code",
        "colab": {
          "base_uri": "https://localhost:8080/",
          "height": 34
        },
        "outputId": "93688c39-7dfb-4187-9218-c43b7de3f064"
      },
      "source": [
        "x = np.random.random((1, n_input))\n",
        "x.shape"
      ],
      "execution_count": 8,
      "outputs": [
        {
          "output_type": "execute_result",
          "data": {
            "text/plain": [
              "(1, 784)"
            ]
          },
          "metadata": {
            "tags": []
          },
          "execution_count": 8
        }
      ]
    },
    {
      "cell_type": "code",
      "metadata": {
        "id": "I3BHyYt_32wT",
        "colab_type": "code",
        "colab": {}
      },
      "source": [
        "#we apply x in ANN\n",
        "a = model.predict(x)"
      ],
      "execution_count": 9,
      "outputs": []
    },
    {
      "cell_type": "code",
      "metadata": {
        "id": "SjGm3iK44EUt",
        "colab_type": "code",
        "colab": {
          "base_uri": "https://localhost:8080/",
          "height": 352
        },
        "outputId": "1f73d766-ac00-4b4a-c6a1-3207d61a6e69"
      },
      "source": [
        "#We graphic for to see the new data.\n",
        "plt.hist(np.transpose(a))"
      ],
      "execution_count": 10,
      "outputs": [
        {
          "output_type": "execute_result",
          "data": {
            "text/plain": [
              "(array([ 1., 13., 29., 32., 39., 44., 41., 32., 21.,  4.]),\n",
              " array([0.09190032, 0.16975392, 0.24760754, 0.32546115, 0.40331477,\n",
              "        0.4811684 , 0.559022  , 0.63687557, 0.7147292 , 0.7925828 ,\n",
              "        0.87043643], dtype=float32),\n",
              " <a list of 10 Patch objects>)"
            ]
          },
          "metadata": {
            "tags": []
          },
          "execution_count": 10
        },
        {
          "output_type": "display_data",
          "data": {
            "image/png": "[encoded data removed]",
            "text/plain": [
              "<Figure size 432x288 with 1 Axes>"
            ]
          },
          "metadata": {
            "tags": [],
            "needs_background": "light"
          }
        }
      ]
    },
    {
      "cell_type": "markdown",
      "metadata": {
        "id": "P2_WZbz87t5l",
        "colab_type": "text"
      },
      "source": [
        "How we can see in this new data mostly of them lives in zero or one, that is a problem because that cause neuron saturation, on the supposed we have another layers after the one we have.\n",
        "\n",
        "Now we will see how it is the tranformation with Glorot distribution."
      ]
    },
    {
      "cell_type": "markdown",
      "metadata": {
        "id": "PWoWigrJAR2d",
        "colab_type": "text"
      },
      "source": [
        "Before everything, we need to restart and rerunning the notebook, it is important that this way it takes the new initial weights.\n",
        "We need change the new weights in the ANN."
      ]
    },
    {
      "cell_type": "code",
      "metadata": {
        "id": "m9TRgIBc8g7m",
        "colab_type": "code",
        "colab": {}
      },
      "source": [
        "# go to the weights initialization section, then comment the normal initialization and put on the Glorot\n",
        "# w_init = glorot_normal= ()"
      ],
      "execution_count": null,
      "outputs": []
    },
    {
      "cell_type": "markdown",
      "metadata": {
        "id": "6Y320p1XC0w1",
        "colab_type": "text"
      },
      "source": [
        "#Conclusions\n",
        "We see how a Glorot distribution, whether normal or uniform, helps to avoid saturation of neurons since it maintain the weights near of zero.  "
      ]
    },
    {
      "cell_type": "code",
      "metadata": {
        "id": "PdndkB8HDmzY",
        "colab_type": "code",
        "colab": {}
      },
      "source": [
        ""
      ],
      "execution_count": null,
      "outputs": []
    }
  ]
}